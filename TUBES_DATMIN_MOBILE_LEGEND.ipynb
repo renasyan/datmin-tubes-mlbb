{
  "nbformat": 4,
  "nbformat_minor": 0,
  "metadata": {
    "colab": {
      "provenance": [],
      "toc_visible": true,
      "authorship_tag": "ABX9TyOs7xyD/0PiWGQHlHX+Xpep",
      "include_colab_link": true
    },
    "kernelspec": {
      "name": "python3",
      "display_name": "Python 3"
    },
    "language_info": {
      "name": "python"
    }
  },
  "cells": [
    {
      "cell_type": "markdown",
      "metadata": {
        "id": "view-in-github",
        "colab_type": "text"
      },
      "source": [
        "<a href=\"https://colab.research.google.com/github/renasyan/datmin-tubes-mlbb/blob/main/TUBES_DATMIN_MOBILE_LEGEND.ipynb\" target=\"_parent\"><img src=\"https://colab.research.google.com/assets/colab-badge.svg\" alt=\"Open In Colab\"/></a>"
      ]
    },
    {
      "cell_type": "code",
      "source": [
        "pip install kagglehub[pandas-datasets]"
      ],
      "metadata": {
        "id": "U4FWcW_2ZZXD"
      },
      "execution_count": null,
      "outputs": []
    },
    {
      "cell_type": "code",
      "execution_count": null,
      "metadata": {
        "id": "7lSUMNgKKufI"
      },
      "outputs": [],
      "source": [
        "# prompt: do preprocessing\n",
        "\n",
        "import pandas as pd\n",
        "df = pd.read_csv('data.csv')\n",
        "# Example: Drop rows with missing values\n",
        "df_cleaned = df.dropna()\n",
        "# Example: Fill missing values with a specific value (e.g., mean)\n",
        "df['column_name'].fillna(df['column_name'].mean(), inplace=True)\n",
        "# Example: Convert a column to numeric type\n",
        "df['numeric_column'] = pd.to_numeric(df['numeric_column'], errors='coerce')\n"
      ]
    }
  ]
}